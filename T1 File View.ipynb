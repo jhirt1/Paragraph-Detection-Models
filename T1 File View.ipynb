{
 "cells": [
  {
   "cell_type": "code",
   "execution_count": 45,
   "metadata": {},
   "outputs": [],
   "source": [
    "import pandas as pd"
   ]
  },
  {
   "cell_type": "code",
   "execution_count": 44,
   "metadata": {},
   "outputs": [],
   "source": [
    "target_file = 'Export Data/T1 Model Results/Sample '\n",
    "sorted_file = 'Export Data/T1 Model Results Cleaned/Sample '"
   ]
  },
  {
   "cell_type": "code",
   "execution_count": 48,
   "metadata": {},
   "outputs": [],
   "source": [
    "for i in range(1,61):\n",
    "    targ = target_file + str(i) + '.json'\n",
    "\n",
    "    df = pd.read_json(targ)\n",
    "    df = df.join(pd.json_normalize(df[\"Blocks\"].tolist()).add_prefix(\"Blocks.\")).drop([\"Blocks\"], axis=1)\n",
    "    df['grouped_text'] = df.groupby('Blocks.paragraph')['Blocks.Text'].transform(lambda x: ' '.join(x))\n",
    "    df2 = df[['Blocks.paragraph', 'grouped_text']].drop_duplicates()\n",
    "    df3 = df2.sort_values(by='Blocks.paragraph')\n",
    "\n",
    "\n",
    "    df3.to_csv(f'{sorted_file}{i}.csv')"
   ]
  }
 ],
 "metadata": {
  "kernelspec": {
   "display_name": "Python 3",
   "language": "python",
   "name": "python3"
  },
  "language_info": {
   "codemirror_mode": {
    "name": "ipython",
    "version": 3
   },
   "file_extension": ".py",
   "mimetype": "text/x-python",
   "name": "python",
   "nbconvert_exporter": "python",
   "pygments_lexer": "ipython3",
   "version": "3.10.7"
  }
 },
 "nbformat": 4,
 "nbformat_minor": 2
}
